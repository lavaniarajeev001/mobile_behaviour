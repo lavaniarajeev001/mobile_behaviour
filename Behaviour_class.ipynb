{
 "cells": [
  {
   "cell_type": "code",
   "execution_count": 5,
   "id": "9123655e-c85e-4140-880f-80ff79485e67",
   "metadata": {},
   "outputs": [],
   "source": [
    "import pandas as pd\n",
    "import numpy as np\n",
    "import seaborn as sns\n",
    "import matplotlib.pyplot as plt\n",
    "from sklearn.preprocessing import StandardScaler\n",
    "from sklearn.model_selection import train_test_split\n",
    "from sklearn.ensemble import RandomForestClassifier\n",
    "from sklearn.metrics import accuracy_score, confusion_matrix,classification_report\n",
    "import pickle"
   ]
  },
  {
   "cell_type": "code",
   "execution_count": 2,
   "id": "ab71ffaa-9353-4714-90a5-d1dffbfab6d0",
   "metadata": {},
   "outputs": [],
   "source": [
    "def data():\n",
    "    df = pd.read_csv(\"user_behavior_dataset.csv\")\n",
    "    df[\"Device Model\"]=df[\"Device Model\"].map({\"Xiaomi Mi 11\":1,\"iPhone 12\":2,\"Google Pixel 5\":3,\"OnePlus 9\":4,\"Samsung Galaxy S21\":5})\n",
    "    df[\"Operating System\"]=df[\"Operating System\"].map({\"Android\":1,\"iOS\":2})\n",
    "    df[\"Gender\"]=df[\"Gender\"].map({\"Male\":1,\"Female\":2})\n",
    "    df=df.drop([\"User ID\"],axis=1)\n",
    "    return df"
   ]
  },
  {
   "cell_type": "code",
   "execution_count": 4,
   "id": "eca3d459-8447-4f2d-8a78-5b4c52980681",
   "metadata": {},
   "outputs": [],
   "source": [
    "def create_model():\n",
    "    df=data()\n",
    "    X=df.iloc[:,:-1]\n",
    "    y=df[\"User Behavior Class\"]\n",
    "    scaler=StandardScaler()\n",
    "    X_scaler=scaler.fit_transform(X)\n",
    "    X_train,X_test,y_train,y_test=train_test_split(X_scaler,y,test_size=0.20,random_state=42)\n",
    "    model = RandomForestClassifier(n_estimators=100, random_state=42)\n",
    "    model.fit(X_train,y_train)\n",
    "    return scaler,model"
   ]
  },
  {
   "cell_type": "code",
   "execution_count": 7,
   "id": "cce73ecf-0730-4167-9df4-47c195f94ce5",
   "metadata": {},
   "outputs": [],
   "source": [
    "def main():\n",
    "    df=data()\n",
    "    scaler,model=create_model()\n",
    "    with open(\"model.pkl\",\"wb\") as f:\n",
    "        pickle.dump(model,f)\n",
    "\n",
    "    with open(\"scaler.pkl\",\"wb\") as f:\n",
    "        pickle.dump(scaler,f)\n",
    "if __name__==\"__main__\":\n",
    "    main()"
   ]
  },
  {
   "cell_type": "code",
   "execution_count": null,
   "id": "bd5d55ae-199c-40d3-a1ff-20c7dbe88335",
   "metadata": {},
   "outputs": [],
   "source": []
  }
 ],
 "metadata": {
  "kernelspec": {
   "display_name": "Python 3 (ipykernel)",
   "language": "python",
   "name": "python3"
  },
  "language_info": {
   "codemirror_mode": {
    "name": "ipython",
    "version": 3
   },
   "file_extension": ".py",
   "mimetype": "text/x-python",
   "name": "python",
   "nbconvert_exporter": "python",
   "pygments_lexer": "ipython3",
   "version": "3.10.14"
  }
 },
 "nbformat": 4,
 "nbformat_minor": 5
}
